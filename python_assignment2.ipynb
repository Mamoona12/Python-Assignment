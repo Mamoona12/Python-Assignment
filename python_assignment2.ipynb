{
 "cells": [
  {
   "cell_type": "code",
   "execution_count": 1,
   "metadata": {},
   "outputs": [
    {
     "name": "stdout",
     "output_type": "stream",
     "text": [
      "enter subject marks urdu:88\n",
      "enter subject marks english:77\n",
      "enter subject marks science:55\n",
      "enter subject marks maths:33\n",
      "enter subject marks physics:66\n",
      "B grade 63.800000000000004\n"
     ]
    }
   ],
   "source": [
    "#question no 1:\n",
    "s1=eval(input(\"enter subject marks urdu:\"))\n",
    "s2=eval(input(\"enter subject marks english:\"))\n",
    "s3=eval(input(\"enter subject marks science:\"))\n",
    "s4=eval(input(\"enter subject marks maths:\"))\n",
    "s5=eval(input(\"enter subject marks physics:\"))\n",
    "num=(s1+s2+s3+s4+s5)/500*100\n",
    "if num >=80:\n",
    "    print(\"A+graade\",num)\n",
    "elif num>=70 :\n",
    "    print(\"A grade\",num)\n",
    "else:\n",
    "    print(\"B grade\",num)"
   ]
  },
  {
   "cell_type": "code",
   "execution_count": 2,
   "metadata": {},
   "outputs": [
    {
     "name": "stdout",
     "output_type": "stream",
     "text": [
      "1\n",
      "1\n",
      "1\n",
      "3\n"
     ]
    }
   ],
   "source": [
    "#question no 6:\n",
    "a=[1, 1, 1, 3, 9, 8, 13, 21, 34, 55, 89]\n",
    "max_num=a[0]\n",
    "for i in range(0,len(a),1):\n",
    "    if a[i]<=5:\n",
    "       print(a[i])"
   ]
  },
  {
   "cell_type": "code",
   "execution_count": 3,
   "metadata": {},
   "outputs": [
    {
     "name": "stdout",
     "output_type": "stream",
     "text": [
      "5\n"
     ]
    }
   ],
   "source": [
    "#question no 5:\n",
    "a=[2,3,0,5]\n",
    "max_num=a[0]\n",
    "for i in range(0,len(a),1):\n",
    "    if max_num<a[i]:\n",
    "        max_num=a[i]\n",
    "        \n",
    "        \n",
    "print(max_num)"
   ]
  },
  {
   "cell_type": "code",
   "execution_count": 4,
   "metadata": {},
   "outputs": [
    {
     "name": "stdout",
     "output_type": "stream",
     "text": [
      "10\n"
     ]
    }
   ],
   "source": [
    "#question  no 3:\n",
    "n= [1,2,3,5,6,7,8,9,10,11]\n",
    "print(len(n))"
   ]
  },
  {
   "cell_type": "code",
   "execution_count": 8,
   "metadata": {},
   "outputs": [
    {
     "name": "stdout",
     "output_type": "stream",
     "text": [
      "14\n"
     ]
    }
   ],
   "source": [
    "#question no 4:\n",
    "n= [1,2,3,8]\n",
    "a=n[0]+n[1]+n[2]+n[3]\n",
    "print(a)"
   ]
  },
  {
   "cell_type": "code",
   "execution_count": 9,
   "metadata": {},
   "outputs": [
    {
     "name": "stdout",
     "output_type": "stream",
     "text": [
      "enter number:7\n",
      "odd number 7\n"
     ]
    }
   ],
   "source": [
    "#question no 2:\n",
    "num=eval(input(\"enter number:\"))\n",
    "if num%2==0:\n",
    "    print(\"even number\",num)\n",
    "else:\n",
    "    print(\"odd number\",num)"
   ]
  },
  {
   "cell_type": "code",
   "execution_count": null,
   "metadata": {},
   "outputs": [],
   "source": []
  }
 ],
 "metadata": {
  "kernelspec": {
   "display_name": "Python 3",
   "language": "python",
   "name": "python3"
  },
  "language_info": {
   "codemirror_mode": {
    "name": "ipython",
    "version": 3
   },
   "file_extension": ".py",
   "mimetype": "text/x-python",
   "name": "python",
   "nbconvert_exporter": "python",
   "pygments_lexer": "ipython3",
   "version": "3.7.4"
  }
 },
 "nbformat": 4,
 "nbformat_minor": 2
}
