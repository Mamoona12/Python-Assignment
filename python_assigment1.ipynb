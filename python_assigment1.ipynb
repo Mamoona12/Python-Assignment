{
 "cells": [
  {
   "cell_type": "code",
   "execution_count": 2,
   "metadata": {},
   "outputs": [
    {
     "name": "stdout",
     "output_type": "stream",
     "text": [
      "Twinkle, twinkle, little star, \n",
      "\tHow I wonder what you are! \n",
      "\t\tUp above the world so high, \n",
      "\t\tLike a diamond in the sky. \n",
      "Twinkle, twinkle, little star \n",
      "\tHow I wonder what you are \n",
      "My Python Version is:\n",
      "3.7.4 (default, Aug 13 2019, 20:35:49) \n",
      "[GCC 7.3.0]\n",
      "Current date & time :\n",
      "Wed Nov 27 19:30:15 2019\n",
      "Enter the radius of a circle\n",
      "2\n",
      "Your Area is  12.57\n",
      "Enter Your Name!!\n",
      "mamoona\n",
      "Tariq\n",
      "Reversed name:  Tariq mamoona\n",
      "Enter Your First Number\n",
      "8\n",
      "Enter Your Second Number\n",
      "9\n",
      "Addition of your numbers is 17\n"
     ]
    }
   ],
   "source": [
    "# Question no 01\n",
    "\n",
    "\n",
    "print (\"Twinkle, twinkle, little star, \\n\\tHow I wonder what you are! \\n\\t\\tUp above the world so high, \\n\\t\\tLike a diamond in the sky. \\nTwinkle, twinkle, little star \\n\\tHow I wonder what you are \")\n",
    "\n",
    "\n",
    "# Question no 02\n",
    "\n",
    "\n",
    "print (\"My Python Version is:\")\n",
    "import sys\n",
    "print (sys.version)\n",
    "\n",
    "\n",
    "# Question no 03\n",
    "\n",
    "\n",
    "import time\n",
    "print (\"Current date & time :\")\n",
    "print(time.ctime())\n",
    "\n",
    "\n",
    "# Question no 04\n",
    "\n",
    "\n",
    "from math import pi\n",
    "\n",
    "print (\"Enter the radius of a circle\")\n",
    "radius = int(input())\n",
    "area = pi * (radius*radius)\n",
    "print (\"Your Area is \",round(area,2))\n",
    "\n",
    "\n",
    "# Question no 05\n",
    "\n",
    "\n",
    "print (\"Enter Your Name!!\")\n",
    "fname = str(input())\n",
    "lname = str(input())\n",
    "\n",
    "print(\"Reversed name: \", lname, fname )\n",
    "\n",
    "\n",
    "# Question no 06\n",
    "\n",
    "\n",
    "print (\"Enter Your First Number\")\n",
    "a = int(input())\n",
    "print (\"Enter Your Second Number\")\n",
    "b = int(input())\n",
    "result = a + b\n",
    "print (\"Addition of your numbers is\",result)\n"
   ]
  },
  {
   "cell_type": "code",
   "execution_count": null,
   "metadata": {},
   "outputs": [],
   "source": []
  }
 ],
 "metadata": {
  "kernelspec": {
   "display_name": "Python 3",
   "language": "python",
   "name": "python3"
  },
  "language_info": {
   "codemirror_mode": {
    "name": "ipython",
    "version": 3
   },
   "file_extension": ".py",
   "mimetype": "text/x-python",
   "name": "python",
   "nbconvert_exporter": "python",
   "pygments_lexer": "ipython3",
   "version": "3.7.4"
  }
 },
 "nbformat": 4,
 "nbformat_minor": 2
}
