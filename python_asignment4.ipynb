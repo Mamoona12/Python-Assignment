{
 "cells": [
  {
   "cell_type": "code",
   "execution_count": 13,
   "metadata": {},
   "outputs": [
    {
     "name": "stdout",
     "output_type": "stream",
     "text": [
      "enter age20\n",
      "ticket is $15\n"
     ]
    }
   ],
   "source": [
    "#question no:3\n",
    "age=eval(input(\"enter age\"))\n",
    "if age <=3:\n",
    "    print(\"ticket is free!!\")\n",
    "elif (age <=3 | age <=12):\n",
    "    print(\"ticket is $10\")\n",
    "elif age >=12:\n",
    "    print(\"ticket is $15\")\n",
    "else:\n",
    "    print(\"invalid input\")"
   ]
  },
  {
   "cell_type": "code",
   "execution_count": 24,
   "metadata": {},
   "outputs": [
    {
     "name": "stdout",
     "output_type": "stream",
     "text": [
      "one of my favourite book is  Alice in Wonderland\n"
     ]
    }
   ],
   "source": [
    "#question no 4:\n",
    "def book(title):\n",
    "    print(\"one of my favourite book is \",title)\n",
    "    \n",
    "    \n",
    "    \n",
    "book(\"Alice in Wonderland\")\n",
    "    \n",
    "    \n",
    "    "
   ]
  },
  {
   "cell_type": "code",
   "execution_count": 5,
   "metadata": {},
   "outputs": [
    {
     "name": "stdout",
     "output_type": "stream",
     "text": [
      "guess ramdom number!!10\n",
      "plzzz gain guess of ramdom number!!1\n",
      "plzzz gain guess of ramdom number!!5\n",
      "congrats\n",
      "random number is 5\n"
     ]
    }
   ],
   "source": [
    "#question no 5:\n",
    "import random\n",
    "val=random.randint(1,30)\n",
    "x=eval(input(\"guess ramdom number!!\"))\n",
    "if val == x:\n",
    "    print(\"congrats\")\n",
    "else:\n",
    "    for i in range (2):\n",
    "        x=eval(input(\"plzzz gain guess  ramdom number!!\"))\n",
    "        if val == x:\n",
    "            print(\"congrats\")\n",
    "            print(\"random number is\",val)\n",
    "            break\n",
    "\n",
    "            \n",
    "        \n",
    "                \n",
    "    \n"
   ]
  },
  {
   "cell_type": "code",
   "execution_count": 4,
   "metadata": {},
   "outputs": [
    {
     "name": "stdout",
     "output_type": "stream",
     "text": [
      "Initial State : {'F_Name': 'Mamoona', 'L_Name': 'Tariq', 'Age': 18, 'City': 'Karachi'}\n",
      "Middle State : {'F_Name': 'Mamoona', 'L_Name': 'Tariq', 'Age': 18, 'City': 'Karachi', 'Qualification': 'Intermediate'}\n",
      "Second Last State : {'F_Name': 'Mamoona', 'L_Name': 'Tariq', 'Age': 18, 'City': 'Karachi', 'Qualification': 'BSCS'}\n",
      "Final State : {'F_Name': 'Mamoona', 'L_Name': 'Tariq', 'Age': 18, 'City': 'Karachi'}\n"
     ]
    }
   ],
   "source": [
    "#question no #Question 1\n",
    "person = {\n",
    "    'F_Name' : 'Mamoona',\n",
    "    'L_Name' : 'Tariq',\n",
    "    'Age' : 18,\n",
    "    'City' : 'Karachi'\n",
    "}\n",
    "\n",
    "print (\"Initial State :\" ,person)\n",
    "person['Qualification'] = 'Intermediate'\n",
    "print (\"Middle State :\" ,person)\n",
    "person['Qualification'] = 'BSCS'\n",
    "print (\"Second Last State :\" ,person)\n",
    "del person['Qualification']\n",
    "print (\"Final State :\" ,person)"
   ]
  },
  {
   "cell_type": "code",
   "execution_count": 3,
   "metadata": {},
   "outputs": [
    {
     "name": "stdout",
     "output_type": "stream",
     "text": [
      "{'Karachi': {'Country': 'Pakistan', 'Population': '14.91 million (Census 2017)', 'Fact': 'Karachi is the  most populated city of the world'}, 'Paris': {'Country': 'France', 'Population': '2.141 million', 'Fact': 'It is a beatiful city.'}, 'Madrid': {'Country': 'Spain', 'Population': '6.55 million (2018)', 'Fact': 'Madrid gets its name from the Arabic \"magerit\" which means place of many streams.'}}\n"
     ]
    }
   ],
   "source": [
    "#question no 1:\n",
    "cities = {\n",
    "    'Karachi' : \n",
    "    {\n",
    "        'Country' : \"Pakistan\",\n",
    "        'Population' : '14.91 million (Census 2017)',\n",
    "        'Fact' : 'Karachi is the  most populated city of the world' \n",
    "    },\n",
    "    'Paris': \n",
    "    {\n",
    "        'Country' : 'France',\n",
    "        'Population' : '2.141 million',\n",
    "        'Fact': 'It is a beatiful city.' \n",
    "    },\n",
    "    'Madrid' : \n",
    "    {\n",
    "        'Country' : 'Spain',\n",
    "        'Population' : '6.55 million (2018)',\n",
    "        'Fact' : 'Madrid gets its name from the Arabic \"magerit\" which means place of many streams.'\n",
    "    }\n",
    "}\n",
    "print(cities)"
   ]
  },
  {
   "cell_type": "code",
   "execution_count": null,
   "metadata": {},
   "outputs": [],
   "source": []
  }
 ],
 "metadata": {
  "kernelspec": {
   "display_name": "Python 3",
   "language": "python",
   "name": "python3"
  },
  "language_info": {
   "codemirror_mode": {
    "name": "ipython",
    "version": 3
   },
   "file_extension": ".py",
   "mimetype": "text/x-python",
   "name": "python",
   "nbconvert_exporter": "python",
   "pygments_lexer": "ipython3",
   "version": "3.7.4"
  }
 },
 "nbformat": 4,
 "nbformat_minor": 2
}
