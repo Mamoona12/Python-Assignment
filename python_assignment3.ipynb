{
 "cells": [
  {
   "cell_type": "code",
   "execution_count": 1,
   "metadata": {},
   "outputs": [
    {
     "name": "stdout",
     "output_type": "stream",
     "text": [
      "Yes 'student' key exists in dict\n"
     ]
    }
   ],
   "source": [
    "#question no 6:\n",
    "student = {\"student_ID\": \"17b-076-cs \",\"Full Name\": \"Mamoona Tariq\", \"department\": \"computer science\" }\n",
    "\n",
    "if \"student_ID\" in student:\n",
    "    print(\"Yes 'student' key exists in dict\")\n",
    "else:\n",
    "    print(\"No 'student' key does not exists in dict\")    \n"
   ]
  },
  {
   "cell_type": "code",
   "execution_count": 2,
   "metadata": {},
   "outputs": [
    {
     "name": "stdout",
     "output_type": "stream",
     "text": [
      "[10, 12]\n"
     ]
    }
   ],
   "source": [
    "#question no 5:\n",
    "check_dup = [ 10, 30, 8, 7, 3, 10, 15, 12, 45, 5, 12, ]\n",
    "dupItems = []\n",
    "uniqItems = {}\n",
    "for x in check_dup:\n",
    "   if x not in uniqItems:\n",
    "      uniqItems[x] = 1\n",
    "   else:\n",
    "      if uniqItems[x] == 1:\n",
    "         dupItems.append(x)\n",
    "      uniqItems[x] += 1\n",
    "print(dupItems)\n"
   ]
  },
  {
   "cell_type": "code",
   "execution_count": 3,
   "metadata": {},
   "outputs": [
    {
     "name": "stdout",
     "output_type": "stream",
     "text": [
      "122\n"
     ]
    }
   ],
   "source": [
    "#question no 4:\n",
    "val= {'val1':22,'val2':90,'val3':10}\n",
    "print(sum(val.values()))"
   ]
  },
  {
   "cell_type": "code",
   "execution_count": 4,
   "metadata": {},
   "outputs": [
    {
     "name": "stdout",
     "output_type": "stream",
     "text": [
      "{'student_ID': '17b-076-cs ', 'Full Name': 'Mamoona Tariq', 'department': 'computer science', 'section': 'A'}\n"
     ]
    }
   ],
   "source": [
    "#question no 3:\n",
    "student = {\"student_ID\": \"17b-076-cs \",\"Full Name\": \"Mamoona Tariq\", \"department\": \"computer science\" }\n",
    "\n",
    "student[\"section\"] = \"A\"\n",
    "print(student)"
   ]
  },
  {
   "cell_type": "code",
   "execution_count": 5,
   "metadata": {},
   "outputs": [
    {
     "name": "stdout",
     "output_type": "stream",
     "text": [
      "['8', '2', '100', '4']\n"
     ]
    }
   ],
   "source": [
    "#question no 2:\n",
    "l=['8','karachi','2','ALI','100','4']\n",
    "for var in l:\n",
    "    l =  [s for s in l if s.isdigit()]\n",
    "    \n",
    "print(l)"
   ]
  },
  {
   "cell_type": "code",
   "execution_count": 6,
   "metadata": {},
   "outputs": [
    {
     "name": "stdout",
     "output_type": "stream",
     "text": [
      "Enter Your  Value 1:5\n",
      "Enter You Value 2:8\n",
      "Enter Operator!! +\n",
      "13 Answer\n"
     ]
    }
   ],
   "source": [
    "#question no 1:\n",
    "val1= eval(input(\"Enter Your  Value 1:\"))\n",
    "val2= eval(input(\"Enter You Value 2:\"))\n",
    "operator = input(\"Enter Operator!! \")\n",
    "\n",
    "if operator == \"+\":\n",
    " val = val1 + val2\n",
    " print(val,\"Answer\")\n",
    " \n",
    "elif operator == \"-\":\n",
    " val = val1 - val2\n",
    " print(val,\"Answer\")\n",
    " \n",
    "elif operator == \"*\":\n",
    " val = val1 * val2\n",
    " print(val,\"Answer\")\n",
    " \n",
    "elif operator == \"/\":\n",
    " val = val1 / val2\n",
    " print(val,\"Answer\")\n",
    " \n",
    "elif operator == \"**\":\n",
    " val = val1 ** val2\n",
    " print(val,\"Answer\")\n",
    "\n",
    "else:\n",
    "  print(\"plzz Enter Correct operator\")"
   ]
  },
  {
   "cell_type": "code",
   "execution_count": null,
   "metadata": {},
   "outputs": [],
   "source": []
  }
 ],
 "metadata": {
  "kernelspec": {
   "display_name": "Python 3",
   "language": "python",
   "name": "python3"
  },
  "language_info": {
   "codemirror_mode": {
    "name": "ipython",
    "version": 3
   },
   "file_extension": ".py",
   "mimetype": "text/x-python",
   "name": "python",
   "nbconvert_exporter": "python",
   "pygments_lexer": "ipython3",
   "version": "3.7.4"
  }
 },
 "nbformat": 4,
 "nbformat_minor": 2
}
